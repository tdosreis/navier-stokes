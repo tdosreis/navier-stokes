{
 "cells": [
  {
   "cell_type": "markdown",
   "id": "fc4f996b",
   "metadata": {},
   "source": [
    "## Computational Fluid Dynamics (CFD)\n",
    "\n",
    "### Lid-driven cavity\n",
    "\n",
    "The following script computes the solution of the Navier-Stokes problem\n",
    "in a lid-driven cavity. The pressure and streamfunction are solved using\n",
    "a SOR approach and the momentum equations are solved using an explicit\n",
    "time-advancement scheme (Euler method, RK1)."
   ]
  },
  {
   "cell_type": "markdown",
   "id": "176f913d",
   "metadata": {},
   "source": [
    "### System setup"
   ]
  },
  {
   "cell_type": "code",
   "execution_count": 1,
   "id": "9878a368",
   "metadata": {},
   "outputs": [],
   "source": [
    "import numpy as np\n",
    "import matplotlib.pyplot as plt\n",
    "import sys"
   ]
  },
  {
   "cell_type": "code",
   "execution_count": 2,
   "id": "18cba2b1",
   "metadata": {},
   "outputs": [],
   "source": [
    "sys.path.append('../src/')"
   ]
  },
  {
   "cell_type": "code",
   "execution_count": 3,
   "id": "cae61e0d",
   "metadata": {},
   "outputs": [],
   "source": [
    "from flow_simulation import simulate_flow"
   ]
  },
  {
   "cell_type": "markdown",
   "id": "1557d024",
   "metadata": {},
   "source": [
    "### Parameters"
   ]
  },
  {
   "cell_type": "markdown",
   "id": "c00706f7",
   "metadata": {},
   "source": [
    "#### Grid parameters"
   ]
  },
  {
   "cell_type": "code",
   "execution_count": 4,
   "id": "30331ab9",
   "metadata": {},
   "outputs": [],
   "source": [
    "Nxc = 128\n",
    "Nyc = 128"
   ]
  },
  {
   "cell_type": "markdown",
   "id": "9d919214",
   "metadata": {},
   "source": [
    "#### Simulation parameters"
   ]
  },
  {
   "cell_type": "code",
   "execution_count": 5,
   "id": "a68664db",
   "metadata": {},
   "outputs": [],
   "source": [
    "Re = 1000 # Reynolds Number\n",
    "tf = 10 # Final Simulation Time\n",
    "SOR = 1.5 # SOR Factor\n",
    "n_iter = 10 # Max. # of iterations\n",
    "dt = 0.01 # Time Step"
   ]
  },
  {
   "cell_type": "markdown",
   "id": "030b3287",
   "metadata": {},
   "source": [
    "#### Boundary conditions"
   ]
  },
  {
   "cell_type": "code",
   "execution_count": 6,
   "id": "17ee3f13",
   "metadata": {},
   "outputs": [],
   "source": [
    "Un = 1.0 # upper boundary\n",
    "Us = 0.0 # bottom plate\n",
    "Vw = 0.0 # left plate\n",
    "Ve = 0.0 # right plate"
   ]
  },
  {
   "cell_type": "markdown",
   "id": "28ddfaf3",
   "metadata": {},
   "source": [
    "#### Initial Conditions"
   ]
  },
  {
   "cell_type": "code",
   "execution_count": 7,
   "id": "9439420a",
   "metadata": {},
   "outputs": [],
   "source": [
    "u = np.zeros((Nxc+1, Nyc+2))\n",
    "v = np.zeros((Nxc+2, Nyc+1))"
   ]
  },
  {
   "cell_type": "markdown",
   "id": "ae02caf3",
   "metadata": {},
   "source": [
    "### Pressure boundary conditions"
   ]
  },
  {
   "cell_type": "code",
   "execution_count": null,
   "id": "e13ca330",
   "metadata": {},
   "outputs": [
    {
     "name": "stdout",
     "output_type": "stream",
     "text": [
      "Running iteration number 538 of 1000\r"
     ]
    }
   ],
   "source": [
    "%%time\n",
    "\n",
    "X, Y, STREAMLINE, u_contour, v_contour, p_contour, vorticity = (\n",
    "    simulate_flow(u, v, Nxc, Nyc, dt, tf, n_iter, SOR, Re, Us, Un, Vw, Ve)\n",
    ")"
   ]
  },
  {
   "cell_type": "code",
   "execution_count": null,
   "id": "79ad1191",
   "metadata": {},
   "outputs": [],
   "source": [
    "# If the plots below don't work, try installing latex as shown below...\n",
    "# !pip install latex"
   ]
  },
  {
   "cell_type": "markdown",
   "id": "0271acf8",
   "metadata": {},
   "source": [
    "### Visualize"
   ]
  },
  {
   "cell_type": "code",
   "execution_count": null,
   "id": "5206eed4",
   "metadata": {},
   "outputs": [],
   "source": [
    "fig, ax = plt.subplots(3, 2, figsize=(16, 20))\n",
    "\n",
    "ax = ax.ravel()\n",
    "\n",
    "ax[0].quiver(\n",
    "    np.flipud(np.rot90(u_contour)),\n",
    "    np.flipud(np.rot90(v_contour))\n",
    ")\n",
    "\n",
    "ax[1].contour(X, Y, STREAMLINE, 100)\n",
    "ax[2].contour(np.rot90(np.fliplr(u_contour)), 100)\n",
    "ax[3].contour(np.rot90(np.fliplr(v_contour)), 100)\n",
    "ax[4].contour(np.rot90(np.fliplr(p_contour)), 100)\n",
    "ax[5].contour(np.rot90(np.fliplr(vorticity)), 100)"
   ]
  },
  {
   "cell_type": "code",
   "execution_count": null,
   "id": "69205507",
   "metadata": {},
   "outputs": [],
   "source": []
  }
 ],
 "metadata": {
  "kernelspec": {
   "display_name": "Python 3",
   "language": "python",
   "name": "python3"
  },
  "language_info": {
   "codemirror_mode": {
    "name": "ipython",
    "version": 3
   },
   "file_extension": ".py",
   "mimetype": "text/x-python",
   "name": "python",
   "nbconvert_exporter": "python",
   "pygments_lexer": "ipython3",
   "version": "3.8.8"
  }
 },
 "nbformat": 4,
 "nbformat_minor": 5
}
